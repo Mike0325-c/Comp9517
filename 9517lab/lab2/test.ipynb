{
 "cells": [
  {
   "cell_type": "code",
   "execution_count": 9,
   "metadata": {},
   "outputs": [
    {
     "name": "stdout",
     "output_type": "stream",
     "text": [
      "[[[167 144 128]\n",
      "  [171 143 126]\n",
      "  [178 149 134]\n",
      "  ...\n",
      "  [145 158 172]\n",
      "  [143 164 172]\n",
      "  [143 159 171]]\n",
      "\n",
      " [[167 144 128]\n",
      "  [171 145 129]\n",
      "  [175 149 133]\n",
      "  ...\n",
      "  [152 163 177]\n",
      "  [147 163 175]\n",
      "  [152 164 176]]\n",
      "\n",
      " [[172 147 131]\n",
      "  [169 143 129]\n",
      "  [166 140 126]\n",
      "  ...\n",
      "  [148 157 171]\n",
      "  [146 158 170]\n",
      "  [139 156 169]]\n",
      "\n",
      " ...\n",
      "\n",
      " [[140 154 166]\n",
      "  [150 155 170]\n",
      "  [152 159 174]\n",
      "  ...\n",
      "  [ 73  71  83]\n",
      "  [ 83  76  83]\n",
      "  [ 80  82  82]]\n",
      "\n",
      " [[136 149 163]\n",
      "  [143 156 170]\n",
      "  [148 159 173]\n",
      "  ...\n",
      "  [ 50  53  68]\n",
      "  [ 65  64  74]\n",
      "  [ 80  82  83]]\n",
      "\n",
      " [[137 153 169]\n",
      "  [139 158 171]\n",
      "  [143 159 172]\n",
      "  ...\n",
      "  [ 71  76  75]\n",
      "  [ 55  63  63]\n",
      "  [ 59  62  66]]]\n",
      "628\n",
      "(628, 964, 3)\n"
     ]
    }
   ],
   "source": [
    "import cv2\n",
    "img = cv2.imread(\"House.png\")\n",
    "print(img)\n",
    "print(len(img))\n",
    "print(img.shape)\n",
    "# img = img.reshape()"
   ]
  }
 ],
 "metadata": {
  "kernelspec": {
   "display_name": "Python 3",
   "language": "python",
   "name": "python3"
  },
  "language_info": {
   "codemirror_mode": {
    "name": "ipython",
    "version": 3
   },
   "file_extension": ".py",
   "mimetype": "text/x-python",
   "name": "python",
   "nbconvert_exporter": "python",
   "pygments_lexer": "ipython3",
   "version": "3.10.5"
  },
  "orig_nbformat": 4
 },
 "nbformat": 4,
 "nbformat_minor": 2
}
