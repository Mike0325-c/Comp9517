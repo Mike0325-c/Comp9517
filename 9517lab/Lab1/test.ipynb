{
 "cells": [
  {
   "cell_type": "code",
   "execution_count": 1,
   "metadata": {},
   "outputs": [],
   "source": [
    "\n",
    "import cv2\n",
    "import numpy"
   ]
  },
  {
   "cell_type": "code",
   "execution_count": 3,
   "metadata": {},
   "outputs": [
    {
     "name": "stdout",
     "output_type": "stream",
     "text": [
      "[1. 1. 1.]\n",
      "[0. 0. 0. 0.]\n",
      "[[0 2]\n",
      " [2 3]]\n",
      "[[1. 1. 1. 1.]\n",
      " [1. 1. 1. 1.]\n",
      " [1. 1. 1. 1.]]\n",
      "[[ 1  9]\n",
      " [ 9 16]]\n"
     ]
    }
   ],
   "source": [
    "print(numpy.ones(3))\n",
    "print(numpy.zeros(4))\n",
    "print(numpy.array([[1,3],[3,4]]) - 1)\n",
    "print(numpy.ones((3,4)))\n",
    "print(numpy.array([[1,3],[3,4]])*numpy.array([[1,3],[3,4]]))"
   ]
  }
 ],
 "metadata": {
  "kernelspec": {
   "display_name": "Python 3",
   "language": "python",
   "name": "python3"
  },
  "language_info": {
   "codemirror_mode": {
    "name": "ipython",
    "version": 3
   },
   "file_extension": ".py",
   "mimetype": "text/x-python",
   "name": "python",
   "nbconvert_exporter": "python",
   "pygments_lexer": "ipython3",
   "version": "3.10.5"
  },
  "orig_nbformat": 4
 },
 "nbformat": 4,
 "nbformat_minor": 2
}
